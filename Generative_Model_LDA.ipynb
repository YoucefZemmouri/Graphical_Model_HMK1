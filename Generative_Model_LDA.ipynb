{
 "cells": [
  {
   "cell_type": "code",
   "execution_count": 6,
   "metadata": {
    "collapsed": true
   },
   "outputs": [],
   "source": [
    "import numpy as np\n",
    "import pandas as pd\n",
    "from numpy.linalg import inv\n",
    "import math\n",
    "import matplotlib.pyplot as plt"
   ]
  },
  {
   "cell_type": "code",
   "execution_count": 3,
   "metadata": {
    "collapsed": true
   },
   "outputs": [],
   "source": [
    "#Load classificationA.train\n",
    "classificationA_train = np.array(pd.read_csv(\"classificationA.train\", header=None, sep  = \"\\t\"))\n",
    "classificationA_train_Y = np.copy(classificationA_train[:,2])\n",
    "classificationA_train_Y = classificationA_train_Y.reshape(classificationA_train_Y.shape[0],1)\n",
    "classificationA_train_X = np.copy(classificationA_train[:,0:2])\n",
    "\n",
    "#Load classificationB.train\n",
    "classificationB_train = np.array(pd.read_csv(\"classificationB.train\", header=None, sep  = \"\\t\"))\n",
    "classificationB_train_Y = np.copy(classificationB_train[:,2])\n",
    "classificationB_train_Y = classificationB_train_Y.reshape(classificationB_train_Y.shape[0],1)\n",
    "classificationB_train_X = np.copy(classificationB_train[:,0:2])\n",
    "    \n",
    "#Load classificationC.train\n",
    "classificationC_train = np.array(pd.read_csv(\"classificationC.train\", header=None, sep  = \"\\t\"))\n",
    "classificationC_train_Y = np.copy(classificationC_train[:,2])\n",
    "classificationC_train_Y = classificationC_train_Y.reshape(classificationC_train_Y.shape[0],1)\n",
    "classificationC_train_X = np.copy(classificationC_train[:,0:2])\n",
    "\n",
    "#Load classificationA.test\n",
    "classificationA_test = np.array(pd.read_csv(\"classificationA.test\", header=None, sep  = \"\\t\"))\n",
    "classificationA_test_Y = np.copy(classificationA_test[:,2])\n",
    "classificationA_test_Y = classificationA_test_Y.reshape(classificationA_test_Y.shape[0],1)\n",
    "classificationA_test_X = np.copy(classificationA_test[:,0:2])\n",
    "\n",
    "#Load classificationB.test\n",
    "classificationB_test = np.array(pd.read_csv(\"classificationB.test\", header=None, sep  = \"\\t\"))\n",
    "classificationB_test_Y = np.copy(classificationB_test[:,2])\n",
    "classificationB_test_Y = classificationB_test_Y.reshape(classificationB_test_Y.shape[0],1)\n",
    "classificationB_test_X = np.copy(classificationB_test[:,0:2])\n",
    "    \n",
    "#Load classificationC.test\n",
    "classificationC_test = np.array(pd.read_csv(\"classificationC.test\", header=None, sep  = \"\\t\"))\n",
    "classificationC_test_Y = np.copy(classificationC_test[:,2])\n",
    "classificationC_test_Y = classificationC_test_Y.reshape(classificationC_test_Y.shape[0],1)\n",
    "classificationC_test_X = np.copy(classificationC_test[:,0:2])"
   ]
  },
  {
   "cell_type": "code",
   "execution_count": 9,
   "metadata": {},
   "outputs": [
    {
     "data": {
      "image/png": "[encoded data removed]",
      "text/plain": [
       "<matplotlib.figure.Figure at 0x1d2651b75f8>"
      ]
     },
     "metadata": {},
     "output_type": "display_data"
    }
   ],
   "source": [
    "x1 = classificationA_train_X[:,0]\n",
    "x2 = classificationA_train_X[:,1]\n",
    "label = classificationA_train_Y\n",
    "color = ['red' if l == 0 else 'green' for l in label]\n",
    "plt.scatter(x1, x2, color=color)\n",
    "plt.show()"
   ]
  },
  {
   "cell_type": "code",
   "execution_count": 3,
   "metadata": {
    "collapsed": true
   },
   "outputs": [],
   "source": [
    "N = np.sum(classificationA_train_Y)\n",
    "n = classificationA_train_Y.shape[0]\n",
    "w0 = np.zeros([1,2])\n",
    "w1 = np.zeros([1,2])\n",
    "for i in range(classificationA_train_Y.shape[0]):\n",
    "    if classificationA_train_Y[i][0] == 0:\n",
    "        w0 = w0 + classificationA_train_X[i]\n",
    "    else:\n",
    "        w1 = w1 + classificationA_train_X[i]\n",
    "w0 = w0/(n-N)\n",
    "w1 = w1/N\n",
    "Pi = N/n"
   ]
  },
  {
   "cell_type": "code",
   "execution_count": 10,
   "metadata": {},
   "outputs": [
    {
     "ename": "TypeError",
     "evalue": "'numpy.float64' object is not callable",
     "output_type": "error",
     "traceback": [
      "\u001b[1;31m---------------------------------------------------------------------------\u001b[0m",
      "\u001b[1;31mTypeError\u001b[0m                                 Traceback (most recent call last)",
      "\u001b[1;32m<ipython-input-10-4777b0465bc2>\u001b[0m in \u001b[0;36m<module>\u001b[1;34m()\u001b[0m\n\u001b[0;32m      1\u001b[0m \u001b[0mSigma\u001b[0m \u001b[1;33m=\u001b[0m \u001b[0mnp\u001b[0m\u001b[1;33m.\u001b[0m\u001b[0mzeros\u001b[0m\u001b[1;33m(\u001b[0m\u001b[1;33m[\u001b[0m\u001b[1;36m2\u001b[0m\u001b[1;33m,\u001b[0m\u001b[1;36m2\u001b[0m\u001b[1;33m]\u001b[0m\u001b[1;33m)\u001b[0m\u001b[1;33m\u001b[0m\u001b[0m\n\u001b[0;32m      2\u001b[0m \u001b[1;32mfor\u001b[0m \u001b[0mi\u001b[0m \u001b[1;32min\u001b[0m \u001b[0mrange\u001b[0m\u001b[1;33m(\u001b[0m\u001b[0mclassificationA_train_Y\u001b[0m\u001b[1;33m.\u001b[0m\u001b[0mshape\u001b[0m\u001b[1;33m[\u001b[0m\u001b[1;36m0\u001b[0m\u001b[1;33m]\u001b[0m\u001b[1;33m)\u001b[0m\u001b[1;33m:\u001b[0m\u001b[1;33m\u001b[0m\u001b[0m\n\u001b[1;32m----> 3\u001b[1;33m     \u001b[0mSigma\u001b[0m \u001b[1;33m=\u001b[0m \u001b[0mSigma\u001b[0m \u001b[1;33m+\u001b[0m \u001b[1;33m(\u001b[0m\u001b[1;36m1\u001b[0m\u001b[1;33m-\u001b[0m\u001b[0mclassificationA_train_Y\u001b[0m\u001b[1;33m[\u001b[0m\u001b[0mi\u001b[0m\u001b[1;33m]\u001b[0m\u001b[1;33m[\u001b[0m\u001b[1;36m0\u001b[0m\u001b[1;33m]\u001b[0m\u001b[1;33m)\u001b[0m\u001b[1;33m(\u001b[0m\u001b[0mclassificationA_train_X\u001b[0m\u001b[1;33m[\u001b[0m\u001b[0mi\u001b[0m\u001b[1;33m]\u001b[0m\u001b[1;33m-\u001b[0m\u001b[0mw0\u001b[0m\u001b[1;33m)\u001b[0m\u001b[1;33m.\u001b[0m\u001b[0mtranspose\u001b[0m\u001b[1;33m(\u001b[0m\u001b[1;33m)\u001b[0m\u001b[1;33m.\u001b[0m\u001b[0mdot\u001b[0m\u001b[1;33m(\u001b[0m\u001b[0mclassificationA_train_X\u001b[0m\u001b[1;33m[\u001b[0m\u001b[0mi\u001b[0m\u001b[1;33m]\u001b[0m\u001b[1;33m-\u001b[0m\u001b[0mw0\u001b[0m\u001b[1;33m)\u001b[0m\u001b[1;33m+\u001b[0m\u001b[1;33m(\u001b[0m\u001b[0mclassificationA_train_Y\u001b[0m\u001b[1;33m[\u001b[0m\u001b[0mi\u001b[0m\u001b[1;33m]\u001b[0m\u001b[1;33m[\u001b[0m\u001b[1;36m0\u001b[0m\u001b[1;33m]\u001b[0m\u001b[1;33m)\u001b[0m\u001b[1;33m*\u001b[0m\u001b[1;33m(\u001b[0m\u001b[0mclassificationA_train_X\u001b[0m\u001b[1;33m[\u001b[0m\u001b[0mi\u001b[0m\u001b[1;33m]\u001b[0m\u001b[1;33m-\u001b[0m\u001b[0mw1\u001b[0m\u001b[1;33m)\u001b[0m\u001b[1;33m.\u001b[0m\u001b[0mtranspose\u001b[0m\u001b[1;33m(\u001b[0m\u001b[1;33m)\u001b[0m\u001b[1;33m.\u001b[0m\u001b[0mdot\u001b[0m\u001b[1;33m(\u001b[0m\u001b[0mclassificationA_train_X\u001b[0m\u001b[1;33m[\u001b[0m\u001b[0mi\u001b[0m\u001b[1;33m]\u001b[0m\u001b[1;33m-\u001b[0m\u001b[0mw1\u001b[0m\u001b[1;33m)\u001b[0m\u001b[1;33m\u001b[0m\u001b[0m\n\u001b[0m",
      "\u001b[1;31mTypeError\u001b[0m: 'numpy.float64' object is not callable"
     ]
    }
   ],
   "source": [
    "Sigma = np.zeros([2,2])\n",
    "for i in range(classificationA_train_Y.shape[0]):\n",
    "    Sigma = Sigma + (1-classificationA_train_Y[i][0])(classificationA_train_X[i]-w0).transpose().dot(classificationA_train_X[i]-w0)+(classificationA_train_Y[i][0])*(classificationA_train_X[i]-w1).transpose().dot(classificationA_train_X[i]-w1)"
   ]
  },
  {
   "cell_type": "code",
   "execution_count": 19,
   "metadata": {},
   "outputs": [
    {
     "data": {
      "text/plain": [
       "numpy.int32"
      ]
     },
     "execution_count": 19,
     "metadata": {},
     "output_type": "execute_result"
    }
   ],
   "source": [
    "type(classificationA_train_Y[i][0].astype(int))"
   ]
  },
  {
   "cell_type": "code",
   "execution_count": 20,
   "metadata": {
    "collapsed": true
   },
   "outputs": [],
   "source": [
    "n = classificationA_train_Y[i][0]"
   ]
  },
  {
   "cell_type": "code",
   "execution_count": 21,
   "metadata": {},
   "outputs": [
    {
     "data": {
      "text/plain": [
       "numpy.float64"
      ]
     },
     "execution_count": 21,
     "metadata": {},
     "output_type": "execute_result"
    }
   ],
   "source": [
    "type(n)"
   ]
  },
  {
   "cell_type": "code",
   "execution_count": null,
   "metadata": {
    "collapsed": true
   },
   "outputs": [],
   "source": []
  }
 ],
 "metadata": {
  "kernelspec": {
   "display_name": "Python 3",
   "language": "python",
   "name": "python3"
  },
  "language_info": {
   "codemirror_mode": {
    "name": "ipython",
    "version": 3
   },
   "file_extension": ".py",
   "mimetype": "text/x-python",
   "name": "python",
   "nbconvert_exporter": "python",
   "pygments_lexer": "ipython3",
   "version": "3.6.2"
  }
 },
 "nbformat": 4,
 "nbformat_minor": 2
}
