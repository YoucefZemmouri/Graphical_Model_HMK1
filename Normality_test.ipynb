{
 "cells": [
  {
   "cell_type": "code",
   "execution_count": 2,
   "metadata": {
    "collapsed": true
   },
   "outputs": [],
   "source": [
    "import numpy as np\n",
    "import pandas as pd\n",
    "import scipy.stats as stats\n",
    "import math"
   ]
  },
  {
   "cell_type": "code",
   "execution_count": 3,
   "metadata": {
    "collapsed": true
   },
   "outputs": [],
   "source": [
    "A_train = pd.read_csv(\"classificationA.train\", sep  = \"\\t\", names=[\"X1\",\"X2\",\"Y\"])\n",
    "B_train = pd.read_csv(\"classificationB.train\", sep  = \"\\t\", names=[\"X1\",\"X2\",\"Y\"])\n",
    "C_train = pd.read_csv(\"classificationC.train\", sep  = \"\\t\", names=[\"X1\",\"X2\",\"Y\"])"
   ]
  },
  {
   "cell_type": "code",
   "execution_count": 4,
   "metadata": {
    "collapsed": true
   },
   "outputs": [],
   "source": [
    "def normality(X):\n",
    "    X_0 = X.loc[X['Y']==0][['X1','X2']]\n",
    "    X_1 = X.loc[X['Y']==1][['X1','X2']]\n",
    "    print(\"For 0: \",stats.normaltest(X_0))\n",
    "    print(\"For 1: \",stats.normaltest(X_1))"
   ]
  },
  {
   "cell_type": "code",
   "execution_count": 5,
   "metadata": {},
   "outputs": [
    {
     "name": "stdout",
     "output_type": "stream",
     "text": [
      "For 0:  NormaltestResult(statistic=array([ 0.8185323 ,  1.52558277]), pvalue=array([ 0.66413745,  0.46636281]))\n",
      "For 1:  NormaltestResult(statistic=array([ 0.39524624,  0.54025164]), pvalue=array([ 0.82067909,  0.76328345]))\n"
     ]
    }
   ],
   "source": [
    "normality(A_train)"
   ]
  },
  {
   "cell_type": "code",
   "execution_count": 6,
   "metadata": {},
   "outputs": [
    {
     "name": "stdout",
     "output_type": "stream",
     "text": [
      "For 0:  NormaltestResult(statistic=array([ 1.06456278,  4.41616805]), pvalue=array([ 0.58726366,  0.10991103]))\n",
      "For 1:  NormaltestResult(statistic=array([ 6.83432655,  6.61162836]), pvalue=array([ 0.03280536,  0.03666934]))\n"
     ]
    }
   ],
   "source": [
    "normality(B_train)"
   ]
  },
  {
   "cell_type": "code",
   "execution_count": 7,
   "metadata": {},
   "outputs": [
    {
     "name": "stdout",
     "output_type": "stream",
     "text": [
      "For 0:  NormaltestResult(statistic=array([ 0.3532499 ,  1.99112962]), pvalue=array([ 0.83809405,  0.36951468]))\n",
      "For 1:  NormaltestResult(statistic=array([ 34.07193391,   3.07604811]), pvalue=array([  3.99368271e-08,   2.14805126e-01]))\n"
     ]
    }
   ],
   "source": [
    "normality(C_train)"
   ]
  }
 ],
 "metadata": {
  "kernelspec": {
   "display_name": "Python 3",
   "language": "python",
   "name": "python3"
  },
  "language_info": {
   "codemirror_mode": {
    "name": "ipython",
    "version": 3
   },
   "file_extension": ".py",
   "mimetype": "text/x-python",
   "name": "python",
   "nbconvert_exporter": "python",
   "pygments_lexer": "ipython3",
   "version": "3.6.2"
  }
 },
 "nbformat": 4,
 "nbformat_minor": 2
}
