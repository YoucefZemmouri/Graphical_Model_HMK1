{
 "cells": [
  {
   "cell_type": "code",
   "execution_count": 1,
   "metadata": {
    "collapsed": true
   },
   "outputs": [],
   "source": [
    "import numpy as np\n",
    "import pandas as pd\n",
    "from numpy.linalg import inv\n",
    "import math"
   ]
  },
  {
   "cell_type": "code",
   "execution_count": 2,
   "metadata": {
    "collapsed": true
   },
   "outputs": [],
   "source": [
    "#Load classificationA.train\n",
    "classificationA_train = np.array(pd.read_csv(\"classificationA.train\", header=None, sep  = \"\\t\"))\n",
    "classificationA_train_Y = np.copy(classificationA_train[:,2])\n",
    "classificationA_train_Y = classificationA_train_Y.reshape(classificationA_train_Y.shape[0],1)\n",
    "classificationA_train_X = np.copy(classificationA_train)\n",
    "classificationA_train_X[:][2] = 1\n",
    "\n",
    "#Load classificationB.train\n",
    "classificationB_train = np.array(pd.read_csv(\"classificationB.train\", header=None, sep  = \"\\t\"))\n",
    "classificationB_train_Y = np.copy(classificationB_train[:,2])\n",
    "classificationB_train_Y = classificationB_train_Y.reshape(classificationB_train_Y.shape[0],1)\n",
    "classificationB_train_X = np.copy(classificationB_train)\n",
    "classificationB_train_X[:][2] = 1\n",
    "    \n",
    "#Load classificationC.train\n",
    "classificationC_train = np.array(pd.read_csv(\"classificationC.train\", header=None, sep  = \"\\t\"))\n",
    "classificationC_train_Y = np.copy(classificationC_train[:,2])\n",
    "classificationC_train_Y = classificationC_train_Y.reshape(classificationC_train_Y.shape[0],1)\n",
    "classificationC_train_X = np.copy(classificationC_train)\n",
    "classificationC_train_X[:][2] = 1"
   ]
  },
  {
   "cell_type": "code",
   "execution_count": 3,
   "metadata": {},
   "outputs": [],
   "source": [
    "def linear_regression(X,y):\n",
    "    return inv(X.transpose().dot(X)).dot(X.transpose()).dot(y)"
   ]
  },
  {
   "cell_type": "code",
   "execution_count": 5,
   "metadata": {},
   "outputs": [
    {
     "data": {
      "text/plain": [
       "array([[  1.22298005e-16],\n",
       "       [  3.60822483e-16],\n",
       "       [  1.00000000e+00]])"
      ]
     },
     "execution_count": 5,
     "metadata": {},
     "output_type": "execute_result"
    }
   ],
   "source": [
    "linear_regression(classificationA_train_X,classificationA_train_Y)"
   ]
  },
  {
   "cell_type": "code",
   "execution_count": 6,
   "metadata": {},
   "outputs": [
    {
     "data": {
      "text/plain": [
       "array([[ -4.33680869e-19],\n",
       "       [ -1.04083409e-17],\n",
       "       [  1.00000000e+00]])"
      ]
     },
     "execution_count": 6,
     "metadata": {},
     "output_type": "execute_result"
    }
   ],
   "source": [
    "linear_regression(classificationB_train_X,classificationB_train_Y)"
   ]
  },
  {
   "cell_type": "code",
   "execution_count": 7,
   "metadata": {},
   "outputs": [
    {
     "data": {
      "text/plain": [
       "array([[  3.46944695e-18],\n",
       "       [  3.72965547e-17],\n",
       "       [  1.00000000e+00]])"
      ]
     },
     "execution_count": 7,
     "metadata": {},
     "output_type": "execute_result"
    }
   ],
   "source": [
    "linear_regression(classificationC_train_X,classificationC_train_Y)"
   ]
  }
 ],
 "metadata": {
  "kernelspec": {
   "display_name": "Python 3",
   "language": "python",
   "name": "python3"
  },
  "language_info": {
   "codemirror_mode": {
    "name": "ipython",
    "version": 3
   },
   "file_extension": ".py",
   "mimetype": "text/x-python",
   "name": "python",
   "nbconvert_exporter": "python",
   "pygments_lexer": "ipython3",
   "version": "3.6.2"
  }
 },
 "nbformat": 4,
 "nbformat_minor": 2
}
