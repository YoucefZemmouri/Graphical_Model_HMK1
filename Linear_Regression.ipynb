{
 "cells": [
  {
   "cell_type": "code",
   "execution_count": 1,
   "metadata": {
    "collapsed": true
   },
   "outputs": [],
   "source": [
    "import numpy as np\n",
    "import pandas as pd\n",
    "from numpy.linalg import inv\n",
    "import math"
   ]
  },
  {
   "cell_type": "code",
   "execution_count": 2,
   "metadata": {
    "collapsed": true
   },
   "outputs": [],
   "source": [
    "#Load classificationA.train\n",
    "classificationA_train = np.array(pd.read_csv(\"classificationA.train\", header=None, sep  = \"\\t\"))\n",
    "classificationA_train_Y = np.copy(classificationA_train[:,2])\n",
    "classificationA_train_Y = classificationA_train_Y.reshape(classificationA_train_Y.shape[0],1)\n",
    "classificationA_train_X = np.copy(classificationA_train)\n",
    "classificationA_train_X[:,2] = 1\n",
    "\n",
    "#Load classificationB.train\n",
    "classificationB_train = np.array(pd.read_csv(\"classificationB.train\", header=None, sep  = \"\\t\"))\n",
    "classificationB_train_Y = np.copy(classificationB_train[:,2])\n",
    "classificationB_train_Y = classificationB_train_Y.reshape(classificationB_train_Y.shape[0],1)\n",
    "classificationB_train_X = np.copy(classificationB_train)\n",
    "classificationB_train_X[:,2] = 1\n",
    "    \n",
    "#Load classificationC.train\n",
    "classificationC_train = np.array(pd.read_csv(\"classificationC.train\", header=None, sep  = \"\\t\"))\n",
    "classificationC_train_Y = np.copy(classificationC_train[:,2])\n",
    "classificationC_train_Y = classificationC_train_Y.reshape(classificationC_train_Y.shape[0],1)\n",
    "classificationC_train_X = np.copy(classificationC_train)\n",
    "classificationC_train_X[:,2] = 1\n",
    "\n",
    "#Load classificationA.test\n",
    "classificationA_test = np.array(pd.read_csv(\"classificationA.test\", header=None, sep  = \"\\t\"))\n",
    "classificationA_test_Y = np.copy(classificationA_test[:,2])\n",
    "classificationA_test_Y = classificationA_test_Y.reshape(classificationA_test_Y.shape[0],1)\n",
    "classificationA_test_X = np.copy(classificationA_test)\n",
    "classificationA_test_X[:,2] = 1\n",
    "\n",
    "#Load classificationB.test\n",
    "classificationB_test = np.array(pd.read_csv(\"classificationB.test\", header=None, sep  = \"\\t\"))\n",
    "classificationB_test_Y = np.copy(classificationB_test[:,2])\n",
    "classificationB_test_Y = classificationB_test_Y.reshape(classificationB_test_Y.shape[0],1)\n",
    "classificationB_test_X = np.copy(classificationB_test)\n",
    "classificationB_test_X[:,2] = 1\n",
    "    \n",
    "#Load classificationC.test\n",
    "classificationC_test = np.array(pd.read_csv(\"classificationC.test\", header=None, sep  = \"\\t\"))\n",
    "classificationC_test_Y = np.copy(classificationC_test[:,2])\n",
    "classificationC_test_Y = classificationC_test_Y.reshape(classificationC_test_Y.shape[0],1)\n",
    "classificationC_test_X = np.copy(classificationC_test)\n",
    "classificationC_test_X[:,2] = 1"
   ]
  },
  {
   "cell_type": "code",
   "execution_count": 3,
   "metadata": {
    "collapsed": true
   },
   "outputs": [],
   "source": [
    "def linear_regression(X,y):\n",
    "    return inv(X.transpose().dot(X)).dot(X.transpose()).dot(y)"
   ]
  },
  {
   "cell_type": "code",
   "execution_count": 13,
   "metadata": {},
   "outputs": [
    {
     "data": {
      "text/plain": [
       "0.039865517973029736"
      ]
     },
     "execution_count": 13,
     "metadata": {},
     "output_type": "execute_result"
    }
   ],
   "source": [
    "w = linear_regression(classificationA_train_X,classificationA_train_Y)\n",
    "sigma2 = classificationA_train_Y-classificationA_train_X.dot(w)\n",
    "sigma2 = ((np.linalg.norm(sigma))**2)/(classificationA_train_Y.shape[0])\n",
    "sigma2\n"
   ]
  },
  {
   "cell_type": "code",
   "execution_count": 14,
   "metadata": {},
   "outputs": [
    {
     "data": {
      "text/plain": [
       "0.45292539722900715"
      ]
     },
     "execution_count": 14,
     "metadata": {},
     "output_type": "execute_result"
    }
   ],
   "source": [
    "linear_regression(classificationB_train_X,classificationB_train_Y)\n",
    "sigma2 = classificationB_train_Y-classificationB_train_X.dot(w)\n",
    "sigma2 = ((np.linalg.norm(sigma))**2)/(classificationB_train_Y.shape[0])\n",
    "sigma2"
   ]
  },
  {
   "cell_type": "code",
   "execution_count": 15,
   "metadata": {},
   "outputs": [
    {
     "data": {
      "text/plain": [
       "1.0444466570811557"
      ]
     },
     "execution_count": 15,
     "metadata": {},
     "output_type": "execute_result"
    }
   ],
   "source": [
    "linear_regression(classificationC_train_X,classificationC_train_Y)\n",
    "sigma2 = classificationC_train_Y-classificationC_train_X.dot(w)\n",
    "sigma2 = ((np.linalg.norm(sigma))**2)/(classificationC_train_Y.shape[0])\n",
    "sigma2"
   ]
  }
 ],
 "metadata": {
  "kernelspec": {
   "display_name": "Python 3",
   "language": "python",
   "name": "python3"
  },
  "language_info": {
   "codemirror_mode": {
    "name": "ipython",
    "version": 3
   },
   "file_extension": ".py",
   "mimetype": "text/x-python",
   "name": "python",
   "nbconvert_exporter": "python",
   "pygments_lexer": "ipython3",
   "version": "3.6.2"
  }
 },
 "nbformat": 4,
 "nbformat_minor": 2
}
