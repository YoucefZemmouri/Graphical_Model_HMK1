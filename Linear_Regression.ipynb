{
 "cells": [
  {
   "cell_type": "code",
   "execution_count": 1,
   "metadata": {
    "collapsed": true
   },
   "outputs": [],
   "source": [
    "import numpy as np\n",
    "import pandas as pd\n",
    "from numpy.linalg import inv\n",
    "import math\n",
    "import matplotlib.pyplot as plt"
   ]
  },
  {
   "cell_type": "code",
   "execution_count": 2,
   "metadata": {
    "collapsed": true
   },
   "outputs": [],
   "source": [
    "#Load classificationA.train\n",
    "classificationA_train = np.array(pd.read_csv(\"classificationA.train\", header=None, sep  = \"\\t\"))\n",
    "classificationA_train_Y = np.copy(classificationA_train[:,2])\n",
    "classificationA_train_Y = classificationA_train_Y.reshape(classificationA_train_Y.shape[0],1)\n",
    "classificationA_train_X = np.copy(classificationA_train)\n",
    "classificationA_train_X[:,2] = 1\n",
    "\n",
    "#Load classificationB.train\n",
    "classificationB_train = np.array(pd.read_csv(\"classificationB.train\", header=None, sep  = \"\\t\"))\n",
    "classificationB_train_Y = np.copy(classificationB_train[:,2])\n",
    "classificationB_train_Y = classificationB_train_Y.reshape(classificationB_train_Y.shape[0],1)\n",
    "classificationB_train_X = np.copy(classificationB_train)\n",
    "classificationB_train_X[:,2] = 1\n",
    "    \n",
    "#Load classificationC.train\n",
    "classificationC_train = np.array(pd.read_csv(\"classificationC.train\", header=None, sep  = \"\\t\"))\n",
    "classificationC_train_Y = np.copy(classificationC_train[:,2])\n",
    "classificationC_train_Y = classificationC_train_Y.reshape(classificationC_train_Y.shape[0],1)\n",
    "classificationC_train_X = np.copy(classificationC_train)\n",
    "classificationC_train_X[:,2] = 1\n",
    "\n",
    "#Load classificationA.test\n",
    "classificationA_test = np.array(pd.read_csv(\"classificationA.test\", header=None, sep  = \"\\t\"))\n",
    "classificationA_test_Y = np.copy(classificationA_test[:,2])\n",
    "classificationA_test_Y = classificationA_test_Y.reshape(classificationA_test_Y.shape[0],1)\n",
    "classificationA_test_X = np.copy(classificationA_test)\n",
    "classificationA_test_X[:,2] = 1\n",
    "\n",
    "#Load classificationB.test\n",
    "classificationB_test = np.array(pd.read_csv(\"classificationB.test\", header=None, sep  = \"\\t\"))\n",
    "classificationB_test_Y = np.copy(classificationB_test[:,2])\n",
    "classificationB_test_Y = classificationB_test_Y.reshape(classificationB_test_Y.shape[0],1)\n",
    "classificationB_test_X = np.copy(classificationB_test)\n",
    "classificationB_test_X[:,2] = 1\n",
    "    \n",
    "#Load classificationC.test\n",
    "classificationC_test = np.array(pd.read_csv(\"classificationC.test\", header=None, sep  = \"\\t\"))\n",
    "classificationC_test_Y = np.copy(classificationC_test[:,2])\n",
    "classificationC_test_Y = classificationC_test_Y.reshape(classificationC_test_Y.shape[0],1)\n",
    "classificationC_test_X = np.copy(classificationC_test)\n",
    "classificationC_test_X[:,2] = 1"
   ]
  },
  {
   "cell_type": "code",
   "execution_count": 3,
   "metadata": {
    "collapsed": true
   },
   "outputs": [],
   "source": [
    "def linear_regression(X,y):\n",
    "    return inv(X.transpose().dot(X)).dot(X.transpose()).dot(y)"
   ]
  },
  {
   "cell_type": "code",
   "execution_count": 4,
   "metadata": {},
   "outputs": [
    {
     "data": {
      "text/plain": [
       "0.03986551797302974"
      ]
     },
     "execution_count": 4,
     "metadata": {},
     "output_type": "execute_result"
    }
   ],
   "source": [
    "w = linear_regression(classificationA_train_X,classificationA_train_Y)\n",
    "sigma2 = classificationA_train_Y-classificationA_train_X.dot(w)\n",
    "sigma2 = (sigma2.transpose().dot(sigma2))/(classificationA_train_Y.shape[0])\n",
    "sigma2 =np.asscalar(sigma2)\n",
    "sigma2"
   ]
  },
  {
   "cell_type": "code",
   "execution_count": 5,
   "metadata": {},
   "outputs": [
    {
     "data": {
      "image/png": "[encoded data removed]",
      "text/plain": [
       "<matplotlib.figure.Figure at 0x108975630>"
      ]
     },
     "metadata": {},
     "output_type": "display_data"
    }
   ],
   "source": [
    "x2 = (1-w[0]*classificationA_train_X[:,0]-w[2]+sigma2*math.log((sigma2*math.pi)/2))/w[1]\n",
    "x2_1 = (1-w[0]*classificationA_train_X[:,0]-w[2]-sigma2*math.log((sigma2*math.pi)/2))/w[1]\n",
    "x1 = classificationA_train_X[:,0]\n",
    "plt.plot(x1,x2)\n",
    "plt.plot(x1,x2_1)\n",
    "\n",
    "\n",
    "A = classificationA_train_X[:,0]\n",
    "B = classificationA_train_X[:,1]\n",
    "label = classificationA_train_Y\n",
    "color = ['red' if l == 0 else 'green' for l in label]\n",
    "plt.scatter(A, B, color=color)\n",
    "\n",
    "plt.show()"
   ]
  },
  {
   "cell_type": "code",
   "execution_count": 6,
   "metadata": {},
   "outputs": [
    {
     "data": {
      "text/plain": [
       "0.4529253972290172"
      ]
     },
     "execution_count": 6,
     "metadata": {},
     "output_type": "execute_result"
    }
   ],
   "source": [
    "linear_regression(classificationB_train_X,classificationB_train_Y)\n",
    "sigma2 = classificationB_train_Y-classificationB_train_X.dot(w)\n",
    "sigma2 = (sigma2.transpose().dot(sigma2))/(classificationB_train_Y.shape[0])\n",
    "sigma2 =np.asscalar(sigma2)\n",
    "sigma2"
   ]
  },
  {
   "cell_type": "code",
   "execution_count": 7,
   "metadata": {},
   "outputs": [
    {
     "data": {
      "text/plain": [
       "1.0444466570811861"
      ]
     },
     "execution_count": 7,
     "metadata": {},
     "output_type": "execute_result"
    }
   ],
   "source": [
    "linear_regression(classificationC_train_X,classificationC_train_Y)\n",
    "sigma2 = classificationC_train_Y-classificationC_train_X.dot(w)\n",
    "sigma2 = (sigma2.transpose().dot(sigma2))/(classificationC_train_Y.shape[0])\n",
    "sigma2 =np.asscalar(sigma2)\n",
    "sigma2"
   ]
  },
  {
   "cell_type": "code",
   "execution_count": null,
   "metadata": {
    "collapsed": true
   },
   "outputs": [],
   "source": []
  }
 ],
 "metadata": {
  "kernelspec": {
   "display_name": "Python 3",
   "language": "python",
   "name": "python3"
  },
  "language_info": {
   "codemirror_mode": {
    "name": "ipython",
    "version": 3
   },
   "file_extension": ".py",
   "mimetype": "text/x-python",
   "name": "python",
   "nbconvert_exporter": "python",
   "pygments_lexer": "ipython3",
   "version": "3.6.2"
  }
 },
 "nbformat": 4,
 "nbformat_minor": 2
}
