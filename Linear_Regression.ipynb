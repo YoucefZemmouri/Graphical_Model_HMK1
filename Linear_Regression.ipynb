{
 "cells": [
  {
   "cell_type": "code",
   "execution_count": 1,
   "metadata": {
    "collapsed": true
   },
   "outputs": [],
   "source": [
    "import numpy as np\n",
    "import pandas as pd\n",
    "from numpy.linalg import inv\n",
    "import math\n",
    "import matplotlib.pyplot as plt"
   ]
  },
  {
   "cell_type": "code",
   "execution_count": 2,
   "metadata": {
    "collapsed": true
   },
   "outputs": [],
   "source": [
    "A_train = pd.read_csv(\"classificationA.train\", sep  = \"\\t\", names=[\"X1\",\"X2\",\"Y\"])\n",
    "B_train = pd.read_csv(\"classificationB.train\", sep  = \"\\t\", names=[\"X1\",\"X2\",\"Y\"])\n",
    "C_train = pd.read_csv(\"classificationC.train\", sep  = \"\\t\", names=[\"X1\",\"X2\",\"Y\"])\n",
    "\n",
    "A_test = pd.read_csv(\"classificationA.test\", sep  = \"\\t\", names=[\"X1\",\"X2\",\"Y\"])\n",
    "B_test = pd.read_csv(\"classificationB.test\", sep  = \"\\t\", names=[\"X1\",\"X2\",\"Y\"])\n",
    "C_test = pd.read_csv(\"classificationC.test\", sep  = \"\\t\", names=[\"X1\",\"X2\",\"Y\"])"
   ]
  },
  {
   "cell_type": "code",
   "execution_count": 3,
   "metadata": {
    "collapsed": true
   },
   "outputs": [],
   "source": [
    "A_train['X3'] = 1\n",
    "B_train['X3'] = 1\n",
    "C_train['X3'] = 1\n",
    "\n",
    "A_test['X3'] = 1\n",
    "B_test['X3'] = 1\n",
    "C_test['X3'] = 1"
   ]
  },
  {
   "cell_type": "markdown",
   "metadata": {},
   "source": [
    "### Estimation des paramètres"
   ]
  },
  {
   "cell_type": "code",
   "execution_count": 4,
   "metadata": {
    "collapsed": true
   },
   "outputs": [],
   "source": [
    "def linear_regression(X,y):\n",
    "    return inv(X.T.dot(X)).dot(X.T).dot(y)"
   ]
  },
  {
   "cell_type": "code",
   "execution_count": 5,
   "metadata": {
    "collapsed": true
   },
   "outputs": [],
   "source": [
    "w_A = pd.Series(linear_regression(A_train[['X1','X2','X3']],A_train.Y), index = [\"X1\", \"X2\", \"X3\"])\n",
    "w_B = pd.Series(linear_regression(B_train[['X1','X2','X3']],B_train.Y), index = [\"X1\", \"X2\", \"X3\"])\n",
    "w_C = pd.Series(linear_regression(C_train[['X1','X2','X3']],C_train.Y), index = [\"X1\", \"X2\", \"X3\"])"
   ]
  },
  {
   "cell_type": "code",
   "execution_count": 6,
   "metadata": {},
   "outputs": [
    {
     "data": {
      "text/plain": [
       "X1   -0.264008\n",
       "X2   -0.372593\n",
       "X3    0.492292\n",
       "dtype: float64"
      ]
     },
     "execution_count": 6,
     "metadata": {},
     "output_type": "execute_result"
    }
   ],
   "source": [
    "w_A"
   ]
  },
  {
   "cell_type": "code",
   "execution_count": 7,
   "metadata": {},
   "outputs": [
    {
     "data": {
      "text/plain": [
       "X1   -0.104246\n",
       "X2    0.051791\n",
       "X3    0.500050\n",
       "dtype: float64"
      ]
     },
     "execution_count": 7,
     "metadata": {},
     "output_type": "execute_result"
    }
   ],
   "source": [
    "w_B"
   ]
  },
  {
   "cell_type": "code",
   "execution_count": 8,
   "metadata": {},
   "outputs": [
    {
     "data": {
      "text/plain": [
       "X1   -0.127693\n",
       "X2   -0.017001\n",
       "X3    0.508400\n",
       "dtype: float64"
      ]
     },
     "execution_count": 8,
     "metadata": {},
     "output_type": "execute_result"
    }
   ],
   "source": [
    "w_C"
   ]
  },
  {
   "cell_type": "markdown",
   "metadata": {},
   "source": [
    "### Visualisation de la frontière"
   ]
  },
  {
   "cell_type": "markdown",
   "metadata": {},
   "source": [
    "On a $w^T x = w_1 x_1 + w_2 x_2 + w_3 \\underbrace{x_3}_{1} = \\frac{1}{2} \\Leftrightarrow x_2 = \\frac{1}{w_2} (\\frac{1}{2} - w_3 - w_1 x_1)$"
   ]
  },
  {
   "cell_type": "code",
   "execution_count": 9,
   "metadata": {
    "collapsed": true
   },
   "outputs": [],
   "source": [
    "def visualize(data, weights):\n",
    "    color = ['red' if l else 'green' for l in data.Y]\n",
    "    plt.scatter(data.X1, data.X2, color=color)\n",
    "\n",
    "    x = np.linspace(data.X1.min(),data.X1.max(),1000)\n",
    "    def f(t):\n",
    "        return (1/weights.X2)*(0.5 - weights.X3 - weights.X1*t)\n",
    "    plt.plot(x,f(x))\n",
    "    plt.show()"
   ]
  },
  {
   "cell_type": "code",
   "execution_count": 10,
   "metadata": {
    "scrolled": true
   },
   "outputs": [
    {
     "data": {
      "image/png": "[encoded data removed]",
      "text/plain": [
       "<matplotlib.figure.Figure at 0x10cd8e898>"
      ]
     },
     "metadata": {},
     "output_type": "display_data"
    }
   ],
   "source": [
    "visualize(A_train,w_A)"
   ]
  },
  {
   "cell_type": "code",
   "execution_count": 11,
   "metadata": {},
   "outputs": [
    {
     "data": {
      "image/png": "[encoded data removed]",
      "text/plain": [
       "<matplotlib.figure.Figure at 0x1060d8828>"
      ]
     },
     "metadata": {},
     "output_type": "display_data"
    }
   ],
   "source": [
    "visualize(B_train,w_B)"
   ]
  },
  {
   "cell_type": "code",
   "execution_count": 12,
   "metadata": {},
   "outputs": [
    {
     "data": {
      "image/png": "[encoded data removed]",
      "text/plain": [
       "<matplotlib.figure.Figure at 0x11495d9e8>"
      ]
     },
     "metadata": {},
     "output_type": "display_data"
    }
   ],
   "source": [
    "visualize(C_train,w_C)"
   ]
  },
  {
   "cell_type": "markdown",
   "metadata": {},
   "source": [
    "### Erreur"
   ]
  },
  {
   "cell_type": "markdown",
   "metadata": {},
   "source": [
    "Train"
   ]
  },
  {
   "cell_type": "code",
   "execution_count": 13,
   "metadata": {},
   "outputs": [
    {
     "data": {
      "text/plain": [
       "0.013333333333333334"
      ]
     },
     "execution_count": 13,
     "metadata": {},
     "output_type": "execute_result"
    }
   ],
   "source": [
    "((A_train[[\"X1\",\"X2\",\"X3\"]].dot(w_A) > 0.5) != A_train.Y).mean()"
   ]
  },
  {
   "cell_type": "code",
   "execution_count": 14,
   "metadata": {},
   "outputs": [
    {
     "data": {
      "text/plain": [
       "0.029999999999999999"
      ]
     },
     "execution_count": 14,
     "metadata": {},
     "output_type": "execute_result"
    }
   ],
   "source": [
    "((B_train[[\"X1\",\"X2\",\"X3\"]].dot(w_B) > 0.5) != B_train.Y).mean()"
   ]
  },
  {
   "cell_type": "code",
   "execution_count": 15,
   "metadata": {},
   "outputs": [
    {
     "data": {
      "text/plain": [
       "0.055"
      ]
     },
     "execution_count": 15,
     "metadata": {},
     "output_type": "execute_result"
    }
   ],
   "source": [
    "((C_train[[\"X1\",\"X2\",\"X3\"]].dot(w_C) > 0.5) != C_train.Y).mean()"
   ]
  },
  {
   "cell_type": "markdown",
   "metadata": {},
   "source": [
    "Test"
   ]
  },
  {
   "cell_type": "code",
   "execution_count": 16,
   "metadata": {},
   "outputs": [
    {
     "data": {
      "text/plain": [
       "0.020666666666666667"
      ]
     },
     "execution_count": 16,
     "metadata": {},
     "output_type": "execute_result"
    }
   ],
   "source": [
    "((A_test[[\"X1\",\"X2\",\"X3\"]].dot(w_A) > 0.5) != A_test.Y).mean()"
   ]
  },
  {
   "cell_type": "code",
   "execution_count": 17,
   "metadata": {},
   "outputs": [
    {
     "data": {
      "text/plain": [
       "0.041500000000000002"
      ]
     },
     "execution_count": 17,
     "metadata": {},
     "output_type": "execute_result"
    }
   ],
   "source": [
    "((B_test[[\"X1\",\"X2\",\"X3\"]].dot(w_B) > 0.5) != B_test.Y).mean()"
   ]
  },
  {
   "cell_type": "code",
   "execution_count": 18,
   "metadata": {},
   "outputs": [
    {
     "data": {
      "text/plain": [
       "0.042333333333333334"
      ]
     },
     "execution_count": 18,
     "metadata": {},
     "output_type": "execute_result"
    }
   ],
   "source": [
    "((C_test[[\"X1\",\"X2\",\"X3\"]].dot(w_C) > 0.5) != C_test.Y).mean()"
   ]
  }
 ],
 "metadata": {
  "kernelspec": {
   "display_name": "Python 3",
   "language": "python",
   "name": "python3"
  },
  "language_info": {
   "codemirror_mode": {
    "name": "ipython",
    "version": 3
   },
   "file_extension": ".py",
   "mimetype": "text/x-python",
   "name": "python",
   "nbconvert_exporter": "python",
   "pygments_lexer": "ipython3",
   "version": "3.6.2"
  }
 },
 "nbformat": 4,
 "nbformat_minor": 2
}
