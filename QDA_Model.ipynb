{
 "cells": [
  {
   "cell_type": "code",
   "execution_count": 1,
   "metadata": {
    "collapsed": true
   },
   "outputs": [],
   "source": [
    "import numpy as np\n",
    "import pandas as pd\n",
    "from numpy.linalg import inv\n",
    "import math\n",
    "import matplotlib.pyplot as plt"
   ]
  },
  {
   "cell_type": "code",
   "execution_count": 2,
   "metadata": {
    "collapsed": true
   },
   "outputs": [],
   "source": [
    "A_train = pd.read_csv(\"classificationA.train\", sep  = \"\\t\", names=[\"X1\",\"X2\",\"Y\"])\n",
    "B_train = pd.read_csv(\"classificationB.train\", sep  = \"\\t\", names=[\"X1\",\"X2\",\"Y\"])\n",
    "C_train = pd.read_csv(\"classificationC.train\", sep  = \"\\t\", names=[\"X1\",\"X2\",\"Y\"])\n",
    "\n",
    "A_test = pd.read_csv(\"classificationA.test\", sep  = \"\\t\", names=[\"X1\",\"X2\",\"Y\"])\n",
    "B_test = pd.read_csv(\"classificationB.test\", sep  = \"\\t\", names=[\"X1\",\"X2\",\"Y\"])\n",
    "C_test = pd.read_csv(\"classificationC.test\", sep  = \"\\t\", names=[\"X1\",\"X2\",\"Y\"])"
   ]
  },
  {
   "cell_type": "code",
   "execution_count": 3,
   "metadata": {
    "collapsed": true
   },
   "outputs": [],
   "source": [
    "N_A = A_train.Y.sum()\n",
    "n_A = A_train.Y.size\n",
    "\n",
    "N_B = B_train.Y.sum()\n",
    "n_B = B_train.Y.size\n",
    "\n",
    "N_C = C_train.Y.sum()\n",
    "n_C = C_train.Y.size"
   ]
  },
  {
   "cell_type": "markdown",
   "metadata": {},
   "source": [
    "## Estimateur $\\Pi$"
   ]
  },
  {
   "cell_type": "code",
   "execution_count": 4,
   "metadata": {
    "collapsed": true
   },
   "outputs": [],
   "source": [
    "Pi_A = N_A/n_A\n",
    "Pi_B = N_B/n_B\n",
    "Pi_C = N_C/n_C"
   ]
  },
  {
   "cell_type": "markdown",
   "metadata": {},
   "source": [
    "## Estimateur $\\mu$"
   ]
  },
  {
   "cell_type": "code",
   "execution_count": 5,
   "metadata": {
    "collapsed": true
   },
   "outputs": [],
   "source": [
    "mu0_A = A_train[['X1','X2']].mul(1-A_train.Y, axis=0).sum()/(n_A-N_A)\n",
    "mu1_A = A_train[['X1','X2']].mul(A_train.Y, axis=0).sum()/N_A\n",
    "\n",
    "mu0_B = B_train[['X1','X2']].mul(1-B_train.Y, axis=0).sum()/(n_B-N_B)\n",
    "mu1_B = B_train[['X1','X2']].mul(B_train.Y, axis=0).sum()/N_B\n",
    "\n",
    "mu0_C = C_train[['X1','X2']].mul(1-C_train.Y, axis=0).sum()/(n_C-N_C)\n",
    "mu1_C = C_train[['X1','X2']].mul(C_train.Y, axis=0).sum()/N_C"
   ]
  },
  {
   "cell_type": "markdown",
   "metadata": {},
   "source": [
    "## Estimateur $\\Sigma$"
   ]
  },
  {
   "cell_type": "code",
   "execution_count": 6,
   "metadata": {
    "collapsed": true
   },
   "outputs": [],
   "source": [
    "Centered_A_train_0 = (A_train[['X1','X2']]-mu0_A).mul(1-A_train.Y, axis=0)\n",
    "Centered_B_train_0 = (B_train[['X1','X2']]-mu0_B).mul(1-B_train.Y, axis=0)\n",
    "Centered_C_train_0 = (C_train[['X1','X2']]-mu0_C).mul(1-C_train.Y, axis=0)\n",
    "\n",
    "Centered_A_train_1 = (A_train[['X1','X2']]-mu1_A).mul(A_train.Y, axis=0)\n",
    "Centered_B_train_1 = (B_train[['X1','X2']]-mu1_B).mul(B_train.Y, axis=0)\n",
    "Centered_C_train_1 = (C_train[['X1','X2']]-mu1_C).mul(C_train.Y, axis=0)"
   ]
  },
  {
   "cell_type": "code",
   "execution_count": 10,
   "metadata": {
    "scrolled": true
   },
   "outputs": [
    {
     "data": {
      "text/html": [
       "<div>\n",
       "<style>\n",
       "    .dataframe thead tr:only-child th {\n",
       "        text-align: right;\n",
       "    }\n",
       "\n",
       "    .dataframe thead th {\n",
       "        text-align: left;\n",
       "    }\n",
       "\n",
       "    .dataframe tbody tr th {\n",
       "        vertical-align: top;\n",
       "    }\n",
       "</style>\n",
       "<table border=\"1\" class=\"dataframe\">\n",
       "  <thead>\n",
       "    <tr style=\"text-align: right;\">\n",
       "      <th></th>\n",
       "      <th>X1</th>\n",
       "      <th>X2</th>\n",
       "    </tr>\n",
       "  </thead>\n",
       "  <tbody>\n",
       "    <tr>\n",
       "      <th>X1</th>\n",
       "      <td>2.310653</td>\n",
       "      <td>-1.047485</td>\n",
       "    </tr>\n",
       "    <tr>\n",
       "      <th>X2</th>\n",
       "      <td>-1.047485</td>\n",
       "      <td>0.575784</td>\n",
       "    </tr>\n",
       "  </tbody>\n",
       "</table>\n",
       "</div>"
      ],
      "text/plain": [
       "          X1        X2\n",
       "X1  2.310653 -1.047485\n",
       "X2 -1.047485  0.575784"
      ]
     },
     "execution_count": 10,
     "metadata": {},
     "output_type": "execute_result"
    }
   ],
   "source": [
    "Sigma_A_0 = Centered_A_train_0.T.dot(Centered_A_train_0)/(n_A-N_A)\n",
    "Sigma_A_1 = Centered_A_train_1.T.dot(Centered_A_train_1)/N_A\n",
    "\n",
    "Sigma_B_0 = Centered_B_train_0.T.dot(Centered_B_train_0)/(n_B-N_B)\n",
    "Sigma_B_1 = Centered_B_train_1.T.dot(Centered_B_train_1)/N_B\n",
    "\n",
    "Sigma_C_0 = Centered_C_train_0.T.dot(Centered_C_train_0)/(n_C-N_C)\n",
    "Sigma_C_1 = Centered_C_train_1.T.dot(Centered_C_train_1)/N_C\n",
    "\n",
    "Sigma_A_0"
   ]
  }
 ],
 "metadata": {
  "kernelspec": {
   "display_name": "Python 3",
   "language": "python",
   "name": "python3"
  },
  "language_info": {
   "codemirror_mode": {
    "name": "ipython",
    "version": 3
   },
   "file_extension": ".py",
   "mimetype": "text/x-python",
   "name": "python",
   "nbconvert_exporter": "python",
   "pygments_lexer": "ipython3",
   "version": "3.6.2"
  }
 },
 "nbformat": 4,
 "nbformat_minor": 2
}
