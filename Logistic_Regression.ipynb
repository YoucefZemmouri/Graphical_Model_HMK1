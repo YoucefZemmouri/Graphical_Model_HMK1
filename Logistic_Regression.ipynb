{
 "cells": [
  {
   "cell_type": "code",
   "execution_count": 1,
   "metadata": {
    "collapsed": true
   },
   "outputs": [],
   "source": [
    "import numpy as np\n",
    "import pandas as pd\n",
    "from numpy.linalg import inv\n",
    "import math"
   ]
  },
  {
   "cell_type": "code",
   "execution_count": 2,
   "metadata": {
    "collapsed": true
   },
   "outputs": [],
   "source": [
    "def sigmoid(z):\n",
    "    return math.exp(z)/(1+math.exp(z))\n",
    "\n",
    "def nu(vector):\n",
    "    return 1/(1+np.exp(-vector))\n",
    "\n",
    "def diag_nu(vector):\n",
    "    temp = nu(vector)*(1-nu(vector))\n",
    "    return np.diag(temp[:,0])\n",
    "\n",
    "def logistic_regression(X, y, max_iter):\n",
    "    w = np.zeros([3,1])\n",
    "    for i in range(max_iter):\n",
    "        d_nu = diag_nu(X.dot(w))\n",
    "        v_nu = nu(X.dot(w))\n",
    "        temp = inv(X.transpose().dot(d_nu).dot(X))\n",
    "        temp1 = temp.dot(X.transpose())\n",
    "        y_nu = y-v_nu\n",
    "        w_ = temp1.dot(y_nu)\n",
    "        #w_ = inv(X.transpose().dot(d_nu).dot(X)).dot(X.transpose()).dot(y-v_nu)\n",
    "        w_ = w_.reshape(3,1)\n",
    "        w = w + w_\n",
    "    print(w)"
   ]
  },
  {
   "cell_type": "code",
   "execution_count": 3,
   "metadata": {
    "collapsed": true
   },
   "outputs": [],
   "source": [
    "#Load classificationA.train\n",
    "classificationA_train = np.array(pd.read_csv(\"classificationA.train\", header=None, sep  = \"\\t\"))\n",
    "classificationA_train_Y = np.copy(classificationA_train[:,2])\n",
    "classificationA_train_Y = classificationA_train_Y.reshape(classificationA_train_Y.shape[0],1)\n",
    "classificationA_train_X = np.copy(classificationA_train)\n",
    "classificationA_train_X[:,2] = 1\n",
    "\n",
    "#Load classificationB.train\n",
    "classificationB_train = np.array(pd.read_csv(\"classificationB.train\", header=None, sep  = \"\\t\"))\n",
    "classificationB_train_Y = np.copy(classificationB_train[:,2])\n",
    "classificationB_train_Y = classificationB_train_Y.reshape(classificationB_train_Y.shape[0],1)\n",
    "classificationB_train_X = np.copy(classificationB_train)\n",
    "classificationB_train_X[:,2] = 1\n",
    "    \n",
    "#Load classificationC.train\n",
    "classificationC_train = np.array(pd.read_csv(\"classificationC.train\", header=None, sep  = \"\\t\"))\n",
    "classificationC_train_Y = np.copy(classificationC_train[:,2])\n",
    "classificationC_train_Y = classificationC_train_Y.reshape(classificationC_train_Y.shape[0],1)\n",
    "classificationC_train_X = np.copy(classificationC_train)\n",
    "classificationC_train_X[:,2] = 1"
   ]
  },
  {
   "cell_type": "code",
   "execution_count": 4,
   "metadata": {},
   "outputs": [
    {
     "name": "stdout",
     "output_type": "stream",
     "text": [
      "[[-2.2032324 ]\n",
      " [ 0.70926562]\n",
      " [ 0.95918885]]\n"
     ]
    }
   ],
   "source": [
    "logistic_regression(classificationC_train_X,classificationC_train_Y,50)"
   ]
  },
  {
   "cell_type": "code",
   "execution_count": 5,
   "metadata": {},
   "outputs": [
    {
     "name": "stdout",
     "output_type": "stream",
     "text": [
      "[[-1.70518586]\n",
      " [ 1.02378538]\n",
      " [ 1.34959157]]\n"
     ]
    }
   ],
   "source": [
    "logistic_regression(classificationB_train_X,classificationB_train_Y,50)"
   ]
  },
  {
   "cell_type": "code",
   "execution_count": 6,
   "metadata": {},
   "outputs": [
    {
     "name": "stdout",
     "output_type": "stream",
     "text": [
      "[[-1059.13339777]\n",
      " [-1835.63404023]\n",
      " [ -178.7100967 ]]\n"
     ]
    },
    {
     "name": "stderr",
     "output_type": "stream",
     "text": [
      "C:\\Users\\youce\\Anaconda3\\lib\\site-packages\\ipykernel_launcher.py:5: RuntimeWarning: overflow encountered in exp\n",
      "  \"\"\"\n"
     ]
    }
   ],
   "source": [
    "logistic_regression(classificationA_train_X,classificationA_train_Y,50)"
   ]
  }
 ],
 "metadata": {
  "kernelspec": {
   "display_name": "Python 3",
   "language": "python",
   "name": "python3"
  },
  "language_info": {
   "codemirror_mode": {
    "name": "ipython",
    "version": 3
   },
   "file_extension": ".py",
   "mimetype": "text/x-python",
   "name": "python",
   "nbconvert_exporter": "python",
   "pygments_lexer": "ipython3",
   "version": "3.6.2"
  }
 },
 "nbformat": 4,
 "nbformat_minor": 2
}
